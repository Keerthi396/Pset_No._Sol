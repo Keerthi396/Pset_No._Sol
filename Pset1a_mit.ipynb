{
 "cells": [
  {
   "cell_type": "markdown",
   "id": "opposite-lover",
   "metadata": {},
   "source": [
    "# User gives inputs"
   ]
  },
  {
   "cell_type": "code",
   "execution_count": null,
   "id": "direct-gross",
   "metadata": {},
   "outputs": [],
   "source": [
    "annual_salary = int(input(\"Enter the starting annual salary: \"))\n",
    "portion_saved = float(input(\"Enter the portion of salary to be saved: \"))\n",
    "total_cost = int(input(\"Enter the cost you dream house: \"))"
   ]
  },
  {
   "cell_type": "markdown",
   "id": "electric-thompson",
   "metadata": {},
   "source": [
    "# Annual salary broken down to Monthly salary"
   ]
  },
  {
   "cell_type": "code",
   "execution_count": null,
   "id": "oriental-oracle",
   "metadata": {},
   "outputs": [],
   "source": [
    "monthly_saved = (annual_salary*portion_saved)/12"
   ]
  },
  {
   "cell_type": "markdown",
   "id": "seeing-latex",
   "metadata": {},
   "source": [
    "# Given values"
   ]
  },
  {
   "cell_type": "code",
   "execution_count": null,
   "id": "genuine-drive",
   "metadata": {},
   "outputs": [],
   "source": [
    "portion_down_payment = 0.25*total_cost\n",
    "current_savings = 0\n",
    "months = 0\n",
    "annual_rate = 0.04"
   ]
  },
  {
   "cell_type": "markdown",
   "id": "inner-creativity",
   "metadata": {},
   "source": [
    "# Computation using while and if loops"
   ]
  },
  {
   "cell_type": "code",
   "execution_count": null,
   "id": "light-jefferson",
   "metadata": {},
   "outputs": [],
   "source": [
    "while current_savings < portion_down_payment:\n",
    "    savings = (current_savings*annual_rate/12) + monthly_saved\n",
    "    current_savings = current_savings + savings\n",
    "    if(savings != portion_down_payment):\n",
    "        months = months + 1        "
   ]
  },
  {
   "cell_type": "markdown",
   "id": "liberal-fabric",
   "metadata": {},
   "source": [
    "# Output in Number of months"
   ]
  },
  {
   "cell_type": "code",
   "execution_count": null,
   "id": "thermal-blond",
   "metadata": {},
   "outputs": [],
   "source": [
    "print(\"\\n Number of months: \",months)"
   ]
  }
 ],
 "metadata": {
  "kernelspec": {
   "display_name": "Python 3",
   "language": "python",
   "name": "python3"
  },
  "language_info": {
   "codemirror_mode": {
    "name": "ipython",
    "version": 3
   },
   "file_extension": ".py",
   "mimetype": "text/x-python",
   "name": "python",
   "nbconvert_exporter": "python",
   "pygments_lexer": "ipython3",
   "version": "3.8.5"
  }
 },
 "nbformat": 4,
 "nbformat_minor": 5
}
