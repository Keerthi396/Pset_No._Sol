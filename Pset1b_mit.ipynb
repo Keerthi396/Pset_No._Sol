{
 "cells": [
  {
   "cell_type": "markdown",
   "id": "prepared-hardware",
   "metadata": {},
   "source": [
    "## User gives Input"
   ]
  },
  {
   "cell_type": "code",
   "execution_count": null,
   "id": "equivalent-behalf",
   "metadata": {},
   "outputs": [],
   "source": [
    "annual_salary = int(input(\"Enter the starting annual salary: \"))\n",
    "portion_saved = float(input(\"Enter the portion of salary to be saved, as a decimal: \"))\n",
    "total_cost = int(input(\"Enter the cost you dream house: \"))\n",
    "semi_annual_raise = float(input(\"Enter the semi-annual raise, as a decimal: \"))"
   ]
  },
  {
   "cell_type": "markdown",
   "id": "olympic-manitoba",
   "metadata": {},
   "source": [
    "## Cutting annual salary into monthly salary"
   ]
  },
  {
   "cell_type": "code",
   "execution_count": null,
   "id": "declared-weapon",
   "metadata": {},
   "outputs": [],
   "source": [
    "monthly_saved = (annual_salary*portion_saved)/12"
   ]
  },
  {
   "cell_type": "markdown",
   "id": "maritime-purple",
   "metadata": {},
   "source": [
    "## Given DATA"
   ]
  },
  {
   "cell_type": "code",
   "execution_count": null,
   "id": "second-daisy",
   "metadata": {},
   "outputs": [],
   "source": [
    "portion_down_payment = 0.25*total_cost\n",
    "current_savings = 0\n",
    "months = 0\n",
    "step = 0\n",
    "annual_rate = 0.04"
   ]
  },
  {
   "cell_type": "markdown",
   "id": "derived-turkey",
   "metadata": {},
   "source": [
    "## Computation here is quite interesting."
   ]
  },
  {
   "cell_type": "code",
   "execution_count": null,
   "id": "everyday-meter",
   "metadata": {},
   "outputs": [],
   "source": [
    "while current_savings < portion_down_payment:\n",
    "    savings = (current_savings*annual_rate/12) + monthly_saved\n",
    "    current_savings = current_savings + savings\n",
    "    if(savings != portion_down_payment):\n",
    "        months = months + 1        \n",
    "        step = months - 1          \n",
    "        if (step%6 == 0 ):\n",
    "            annual_salary = annual_salary + annual_salary*(semi_annual_raise)\n",
    "            monthly_saved = (annual_salary*portion_saved)/12\n",
    "        else:\n",
    "            monthly_saved = monthly_saved "
   ]
  },
  {
   "cell_type": "markdown",
   "id": "solid-document",
   "metadata": {},
   "source": [
    "## Output "
   ]
  },
  {
   "cell_type": "code",
   "execution_count": null,
   "id": "electoral-better",
   "metadata": {},
   "outputs": [],
   "source": [
    "print(\"\\n Number of months: \",months)"
   ]
  }
 ],
 "metadata": {
  "kernelspec": {
   "display_name": "Python 3",
   "language": "python",
   "name": "python3"
  },
  "language_info": {
   "codemirror_mode": {
    "name": "ipython",
    "version": 3
   },
   "file_extension": ".py",
   "mimetype": "text/x-python",
   "name": "python",
   "nbconvert_exporter": "python",
   "pygments_lexer": "ipython3",
   "version": "3.8.5"
  }
 },
 "nbformat": 4,
 "nbformat_minor": 5
}
