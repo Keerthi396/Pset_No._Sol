{
 "cells": [
  {
   "cell_type": "markdown",
   "id": "regular-stanford",
   "metadata": {},
   "source": [
    "# Ask the user to enter a number \"x\""
   ]
  },
  {
   "cell_type": "code",
   "execution_count": null,
   "id": "executed-notice",
   "metadata": {},
   "outputs": [],
   "source": [
    "x = int(input(\"Enter number x: \")) "
   ]
  },
  {
   "cell_type": "markdown",
   "id": "dutch-adams",
   "metadata": {},
   "source": [
    "# Ask the user to enter a number \"y\""
   ]
  },
  {
   "cell_type": "code",
   "execution_count": null,
   "id": "compact-ecuador",
   "metadata": {},
   "outputs": [],
   "source": [
    "y = int(input(\"Enter numbet y: \"))"
   ]
  },
  {
   "cell_type": "markdown",
   "id": "expressed-ecuador",
   "metadata": {},
   "source": [
    "# Print out number \"x\", raised to the power \"y\""
   ]
  },
  {
   "cell_type": "code",
   "execution_count": null,
   "id": "indie-brake",
   "metadata": {},
   "outputs": [],
   "source": [
    "print(\"x**y = \",x**y)"
   ]
  },
  {
   "cell_type": "markdown",
   "id": "textile-payroll",
   "metadata": {},
   "source": [
    "# Prints out the log(base 2) of \"x\""
   ]
  },
  {
   "cell_type": "code",
   "execution_count": null,
   "id": "sustainable-israeli",
   "metadata": {},
   "outputs": [],
   "source": [
    "import math\n",
    "print(\"log(x) = \",math.log(x,2))"
   ]
  },
  {
   "cell_type": "code",
   "execution_count": null,
   "id": "horizontal-discussion",
   "metadata": {},
   "outputs": [],
   "source": [
    "import numpy\n",
    "print(\"log(x) = \",numpy.log2(x))"
   ]
  },
  {
   "cell_type": "code",
   "execution_count": null,
   "id": "international-lawsuit",
   "metadata": {},
   "outputs": [],
   "source": [
    "import pylab\n",
    "print(\"log(x) = \",pylab.log2(x))"
   ]
  }
 ],
 "metadata": {
  "kernelspec": {
   "display_name": "Python 3",
   "language": "python",
   "name": "python3"
  },
  "language_info": {
   "codemirror_mode": {
    "name": "ipython",
    "version": 3
   },
   "file_extension": ".py",
   "mimetype": "text/x-python",
   "name": "python",
   "nbconvert_exporter": "python",
   "pygments_lexer": "ipython3",
   "version": "3.8.5"
  }
 },
 "nbformat": 4,
 "nbformat_minor": 5
}
